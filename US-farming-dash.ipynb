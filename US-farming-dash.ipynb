{
 "cells": [
  {
   "cell_type": "code",
   "execution_count": 1,
   "id": "46b94c87",
   "metadata": {},
   "outputs": [],
   "source": [
    "import pandas as pd\n",
    "import numpy as np"
   ]
  },
  {
   "cell_type": "code",
   "execution_count": 46,
   "id": "10bb97a0",
   "metadata": {},
   "outputs": [],
   "source": [
    "from pandas_geojson import read_geojson\n",
    "geojson = read_geojson('US-map.geojson')"
   ]
  },
  {
   "cell_type": "code",
   "execution_count": 48,
   "id": "325a6119",
   "metadata": {},
   "outputs": [],
   "source": [
    "names_to_remove = [\"Puerto Rico\", \"Alaska\", \"Hawaii\"]\n",
    "filtered_features = [feature for feature in geojson['features'] if feature['properties']['NAME'] not in names_to_remove]\n",
    "\n",
    "# Replace the old features with the filtered ones\n",
    "geojson['features'] = filtered_features"
   ]
  },
  {
   "cell_type": "code",
   "execution_count": 36,
   "id": "50cc42d2",
   "metadata": {},
   "outputs": [],
   "source": [
    "df = pd.read_csv('E.csv')"
   ]
  },
  {
   "cell_type": "code",
   "execution_count": 42,
   "id": "df680734",
   "metadata": {},
   "outputs": [],
   "source": [
    "df = pd.read_csv('E.csv')\n",
    "df = df[~df['NAME'].isin(['Puerto Rico', 'Alaska', \"Hawaii\"])]"
   ]
  },
  {
   "cell_type": "code",
   "execution_count": null,
   "id": "b287d732",
   "metadata": {},
   "outputs": [],
   "source": [
    "fig = px.choropleth_mapbox(\n",
    "        df, geojson=geojson, color=candidate,\n",
    "        locations=\"district\", featureidkey=\"properties.district\",\n",
    "        center={\"lat\": 45.5517, \"lon\": -73.7073}, zoom=9,\n",
    "        range_color=[0, 6500])\n",
    "    fig.update_layout(\n",
    "        margin={\"r\":0,\"t\":0,\"l\":0,\"b\":0},\n",
    "        mapbox_accesstoken=token)"
   ]
  },
  {
   "cell_type": "code",
   "execution_count": 55,
   "id": "1289a982",
   "metadata": {},
   "outputs": [
    {
     "data": {
      "text/html": [
       "\n",
       "        <iframe\n",
       "            width=\"100%\"\n",
       "            height=\"650\"\n",
       "            src=\"http://127.0.0.1:8050/\"\n",
       "            frameborder=\"0\"\n",
       "            allowfullscreen\n",
       "            \n",
       "        ></iframe>\n",
       "        "
      ],
      "text/plain": [
       "<IPython.lib.display.IFrame at 0x7ff41815c0d0>"
      ]
     },
     "metadata": {},
     "output_type": "display_data"
    }
   ],
   "source": [
    "from dash import Dash, dcc, html, Input, Output\n",
    "import plotly.express as px\n",
    "\n",
    "app = Dash(__name__)\n",
    "\n",
    "app.layout = html.Div([\n",
    "    html.H1('Nutrients Data Analysis'),\n",
    "    html.P(\"Select a element:\"),\n",
    "    dcc.RadioItems(\n",
    "        id='element', \n",
    "        options=[\"E1\", \"E2\" ],\n",
    "        value=\"E1\",\n",
    "        inline=True\n",
    "    ), \n",
    "    dcc.Graph(id=\"graph\"),\n",
    "    dcc.Slider(\n",
    "        df['Year'].min(),\n",
    "        df['Year'].max(),\n",
    "        step=None,\n",
    "        id='year--slider',\n",
    "        value=df['Year'].max(),\n",
    "        marks={str(year): str(year) for year in df['Year'].unique()}\n",
    "    )\n",
    "],style={'width': '80%', 'float': 'left', 'display': 'inline-block', 'font-family':'Arial'})\n",
    "\n",
    "\n",
    "@app.callback(\n",
    "    Output(\"graph\", \"figure\"), \n",
    "    Input(\"element\", \"value\"),\n",
    "    Input(\"year--slider\", \"value\"))\n",
    "\n",
    "def display_choropleth(element,year_value):\n",
    "    dff = df[df['Year'] == year_value]\n",
    "    fig = px.choropleth(dff, geojson=geojson, color=element,\n",
    "                    locations=\"NAME\",featureidkey=\"properties.NAME\",\n",
    "                    color_discrete_sequence= px.colors.sequential.Plasma_r,projection=\"mercator\"\n",
    "                   )\n",
    "        \n",
    "    fig.update_geos(fitbounds=\"geojson\", visible=False)\n",
    "    fig.update_layout(autosize=False,margin={\"r\":0,\"t\":0,\"l\":0,\"b\":0},width=800,height=500)\n",
    "\n",
    "    \n",
    "    return fig\n",
    "\n",
    "\n",
    "app.run_server(debug=True)"
   ]
  },
  {
   "cell_type": "code",
   "execution_count": 54,
   "id": "43908c57",
   "metadata": {},
   "outputs": [],
   "source": [
    "server = app.server"
   ]
  },
  {
   "cell_type": "code",
   "execution_count": null,
   "id": "2618d675",
   "metadata": {},
   "outputs": [],
   "source": []
  }
 ],
 "metadata": {
  "kernelspec": {
   "display_name": "Python 3 (ipykernel)",
   "language": "python",
   "name": "python3"
  },
  "language_info": {
   "codemirror_mode": {
    "name": "ipython",
    "version": 3
   },
   "file_extension": ".py",
   "mimetype": "text/x-python",
   "name": "python",
   "nbconvert_exporter": "python",
   "pygments_lexer": "ipython3",
   "version": "3.10.9"
  }
 },
 "nbformat": 4,
 "nbformat_minor": 5
}
